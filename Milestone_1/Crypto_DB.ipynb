{
  "nbformat": 4,
  "nbformat_minor": 0,
  "metadata": {
    "colab": {
      "provenance": []
    },
    "kernelspec": {
      "name": "python3",
      "display_name": "Python 3"
    },
    "language_info": {
      "name": "python"
    }
  },
  "cells": [
    {
      "cell_type": "code",
      "execution_count": null,
      "metadata": {
        "id": "EmMTZxxE2JV_",
        "colab": {
          "base_uri": "https://localhost:8080/"
        },
        "outputId": "dba3c973-0014-4035-9e97-5a3f78cbc8a6"
      },
      "outputs": [
        {
          "output_type": "stream",
          "name": "stdout",
          "text": [
            "Mounted at /content/drive\n"
          ]
        }
      ],
      "source": [
        "from google.colab import drive\n",
        "drive.mount('/content/drive')"
      ]
    },
    {
      "cell_type": "code",
      "source": [
        "import sqlite3\n",
        "import requests\n",
        "import pandas as pd\n",
        "import numpy as np\n",
        "import time\n",
        "from datetime import datetime\n",
        "import concurrent.futures"
      ],
      "metadata": {
        "id": "Sje1Bn6sEGan"
      },
      "execution_count": null,
      "outputs": []
    },
    {
      "cell_type": "code",
      "source": [
        "COINS_TO_FETCH = ['BTC-USDT', 'ETH-USDT', 'SOL-USDT', 'ADA-USDT', 'XRP-USDT', 'DOGE-USDT']\n",
        "DATABASE_FILE_PATH = 'crypto_data.db'\n",
        "TABLE_NAME = 'crypto_prices'"
      ],
      "metadata": {
        "id": "Ifbsof5GEIXE"
      },
      "execution_count": null,
      "outputs": []
    },
    {
      "cell_type": "markdown",
      "source": [
        "# Data Fetching"
      ],
      "metadata": {
        "id": "KboMz44NEPTw"
      }
    },
    {
      "cell_type": "code",
      "source": [
        "def fetch_coin_data(symbol):\n",
        "    days_to_fetch = 2000\n",
        "    start_timestamp = int(time.time()) - (days_to_fetch * 24 * 60 * 60)\n",
        "    url = f\"https://api.kucoin.com/api/v1/market/candles?type=1day&symbol={symbol}&startAt={start_timestamp}\"\n",
        "\n",
        "    print(f\"[FETCHING] Starting download for {symbol}...\")\n",
        "    try:\n",
        "        response = requests.get(url)\n",
        "        response.raise_for_status()\n",
        "        raw_data = response.json()['data']\n",
        "        print(f\"[FETCHING] Completed download for {symbol}, found {len(raw_data)} records.\")\n",
        "        return process_api_data(raw_data, symbol)\n",
        "    except requests.exceptions.RequestException as e:\n",
        "        print(f\"  > ERROR: Failed to fetch {symbol}. Reason: {e}\")\n",
        "        return []"
      ],
      "metadata": {
        "id": "pc6XEZhrEOj2"
      },
      "execution_count": null,
      "outputs": []
    },
    {
      "cell_type": "code",
      "source": [
        "def process_api_data(raw_data, symbol):\n",
        "    processed_data = []\n",
        "    for row in raw_data:\n",
        "        processed_data.append((\n",
        "            int(row[0]) * 1000,\n",
        "            datetime.fromtimestamp(int(row[0])).strftime('%Y-%m-%d'),\n",
        "            symbol.replace('-', ''),\n",
        "            float(row[1]), float(row[3]), float(row[4]), float(row[2]),\n",
        "            float(row[5]), float(row[6])\n",
        "        ))\n",
        "    return processed_data"
      ],
      "metadata": {
        "id": "Gsq7sckTEaZu"
      },
      "execution_count": null,
      "outputs": []
    },
    {
      "cell_type": "markdown",
      "source": [
        "# DATABASE STORAGE"
      ],
      "metadata": {
        "id": "5OC24qG8EeuZ"
      }
    },
    {
      "cell_type": "code",
      "source": [
        "def update_database(db_path, table_name, data_to_insert):\n",
        "    conn = sqlite3.connect(db_path)\n",
        "    cur = conn.cursor()\n",
        "    cur.execute(f\"\"\"\n",
        "    CREATE TABLE IF NOT EXISTS {table_name} (\n",
        "        id INTEGER PRIMARY KEY AUTOINCREMENT,\n",
        "        Unix INTEGER, Date TEXT, Symbol TEXT, Open REAL, High REAL,\n",
        "        Low REAL, Close REAL, Volume_Base REAL, Volume_Quote REAL,\n",
        "        UNIQUE(Symbol, Unix)\n",
        "    )\n",
        "    \"\"\")\n",
        "    insert_query = f\"INSERT OR IGNORE INTO {table_name} (Unix, Date, Symbol, Open, High, Low, Close, Volume_Base, Volume_Quote) VALUES (?, ?, ?, ?, ?, ?, ?, ?, ?)\"\n",
        "    cur.executemany(insert_query, data_to_insert)\n",
        "    conn.commit()\n",
        "    print(f\"\\n[DATABASE] Successfully connected to '{db_path}'.\")\n",
        "    print(f\"[DATABASE] Inserted {cur.rowcount} new records. Skipped duplicates.\")\n",
        "    conn.close()"
      ],
      "metadata": {
        "id": "M1iqlKeuEeQQ"
      },
      "execution_count": null,
      "outputs": []
    },
    {
      "cell_type": "markdown",
      "source": [
        "# METRICS CALCULATION"
      ],
      "metadata": {
        "id": "euX4N58YEkJ7"
      }
    },
    {
      "cell_type": "code",
      "source": [
        "def percent_change(prices):\n",
        "    changes = []\n",
        "    for i in range(1, len(prices)):\n",
        "        change = ((prices[i] - prices[i - 1]) / prices[i - 1]) * 100\n",
        "        changes.append(round(change, 2))\n",
        "    return changes"
      ],
      "metadata": {
        "id": "afGhUJJzEna1"
      },
      "execution_count": null,
      "outputs": []
    },
    {
      "cell_type": "code",
      "source": [
        "def moving_average(prices, window=30):\n",
        "    sma = []\n",
        "    for i in range(window, len(prices) + 1):\n",
        "        avg = np.mean(prices[i - window:i])\n",
        "        sma.append(round(avg, 2))\n",
        "    return sma"
      ],
      "metadata": {
        "id": "OtRW1CJuEqg9"
      },
      "execution_count": null,
      "outputs": []
    },
    {
      "cell_type": "code",
      "source": [
        "def calculate_volatility(prices):\n",
        "    changes = percent_change(prices)\n",
        "    if not changes: return 0.0\n",
        "    return round(np.std(changes), 2)"
      ],
      "metadata": {
        "id": "tBVYfK0tEsM6"
      },
      "execution_count": null,
      "outputs": []
    },
    {
      "cell_type": "code",
      "source": [
        "def trading_signal(prices):\n",
        "    changes = percent_change(prices)\n",
        "    signals = []\n",
        "    for change in changes:\n",
        "        if change > 2:\n",
        "            signals.append(\"BUY\")\n",
        "        elif change < -2:\n",
        "            signals.append(\"SELL\")\n",
        "        else:\n",
        "            signals.append(\"HOLD\")\n",
        "    return signals"
      ],
      "metadata": {
        "id": "RDS4h5OAEuu-"
      },
      "execution_count": null,
      "outputs": []
    },
    {
      "cell_type": "code",
      "source": [
        "def calculate_metrics_for_symbol(symbol):\n",
        "    print(f\"[ANALYSIS] Starting calculation for {symbol}...\")\n",
        "    conn = sqlite3.connect(DATABASE_FILE_PATH)\n",
        "\n",
        "    query = f\"SELECT Date, Close FROM {TABLE_NAME} WHERE Symbol = '{symbol}' ORDER BY Date ASC\"\n",
        "    df = pd.read_sql_query(query, conn, parse_dates=['Date'], index_col='Date')\n",
        "    conn.close()\n",
        "\n",
        "    prices = df['Close'].tolist()\n",
        "    if len(prices) < 30:\n",
        "        print(f\"[ANALYSIS] Insufficient data for {symbol}. Skipping.\")\n",
        "        return None\n",
        "\n",
        "    daily_changes = percent_change(prices)\n",
        "    ma_30 = moving_average(prices, window=30)\n",
        "    signals = trading_signal(prices)\n",
        "    volatility = calculate_volatility(prices)\n",
        "\n",
        "    df['Percent_Change'] = [np.nan] + daily_changes\n",
        "    df['30_Day_MA'] = [np.nan] * 29 + ma_30\n",
        "    df['Signal'] = [np.nan] + signals\n",
        "    df['Volatility'] = volatility\n",
        "    df['Symbol'] = symbol\n",
        "\n",
        "    print(f\"[ANALYSIS] Completed calculation for {symbol}.\")\n",
        "    return df.reset_index()"
      ],
      "metadata": {
        "id": "wviOKj5yExAR"
      },
      "execution_count": null,
      "outputs": []
    },
    {
      "cell_type": "markdown",
      "source": [
        "# MAIN EXECUTION SCRIPT"
      ],
      "metadata": {
        "id": "c6s2dHYsE6h0"
      }
    },
    {
      "cell_type": "code",
      "source": [
        "if __name__ == \"__main__\":\n",
        "\n",
        "    print(\"--- STEP 1: FETCHING DATA IN PARALLEL ---\")\n",
        "    all_fetched_data = []\n",
        "    with concurrent.futures.ThreadPoolExecutor(max_workers=len(COINS_TO_FETCH)) as executor:\n",
        "        future_to_coin = {executor.submit(fetch_coin_data, coin): coin for coin in COINS_TO_FETCH}\n",
        "        for future in concurrent.futures.as_completed(future_to_coin):\n",
        "            result = future.result()\n",
        "            if result:\n",
        "                all_fetched_data.extend(result)\n",
        "\n",
        "    print(\"\\n--- STEP 2: STORING DATA IN DATABASE ---\")\n",
        "    if all_fetched_data:\n",
        "        update_database(DATABASE_FILE_PATH, TABLE_NAME, all_fetched_data)\n",
        "    else:\n",
        "        print(\"[DATABASE] No data fetched, skipping database update.\")\n",
        "\n",
        "    print(\"\\n--- STEP 3: CALCULATING METRICS IN PARALLEL ---\")\n",
        "    all_metrics_dfs = []\n",
        "    symbols_in_db = [coin.replace('-USDT', 'USDT') for coin in COINS_TO_FETCH]\n",
        "    with concurrent.futures.ThreadPoolExecutor(max_workers=len(symbols_in_db)) as executor:\n",
        "        future_to_symbol = {executor.submit(calculate_metrics_for_symbol, symbol): symbol for symbol in symbols_in_db}\n",
        "        for future in concurrent.futures.as_completed(future_to_symbol):\n",
        "            result_df = future.result()\n",
        "            if result_df is not None:\n",
        "                all_metrics_dfs.append(result_df)\n",
        "\n",
        "    if all_metrics_dfs:\n",
        "        final_metrics_df = pd.concat(all_metrics_dfs, ignore_index=True)\n",
        "        final_metrics_df.sort_values(by=['Symbol', 'Date'], inplace=True)\n",
        "\n",
        "        print(\"\\n--- FINAL METRICS DATAFRAME (LAST 10 ROWS) ---\")\n",
        "        print(final_metrics_df.tail(10))\n",
        "    else:\n",
        "        print(\"\\nNo metrics were calculated.\")\n",
        "\n",
        "    print(\"\\n--- PIPELINE COMPLETE ---\")"
      ],
      "metadata": {
        "colab": {
          "base_uri": "https://localhost:8080/"
        },
        "id": "kLL-BYEsEFEx",
        "outputId": "e840d1a1-6335-4dd1-8202-a400df8cf7dc"
      },
      "execution_count": null,
      "outputs": [
        {
          "output_type": "stream",
          "name": "stdout",
          "text": [
            "--- STEP 1: FETCHING DATA IN PARALLEL ---\n",
            "[FETCHING] Starting download for BTC-USDT...\n",
            "[FETCHING] Starting download for ETH-USDT...\n",
            "[FETCHING] Starting download for SOL-USDT...\n",
            "[FETCHING] Starting download for ADA-USDT...\n",
            "[FETCHING] Starting download for XRP-USDT...\n",
            "[FETCHING] Starting download for DOGE-USDT...\n",
            "[FETCHING] Completed download for BTC-USDT, found 1500 records.\n",
            "[FETCHING] Completed download for DOGE-USDT, found 1500 records.\n",
            "[FETCHING] Completed download for ADA-USDT, found 1500 records.\n",
            "[FETCHING] Completed download for ETH-USDT, found 1500 records.\n",
            "[FETCHING] Completed download for XRP-USDT, found 1500 records.\n",
            "[FETCHING] Completed download for SOL-USDT, found 1488 records.\n",
            "\n",
            "--- STEP 2: STORING DATA IN DATABASE ---\n",
            "\n",
            "[DATABASE] Successfully connected to 'crypto_data.db'.\n",
            "[DATABASE] Inserted 8988 new records. Skipped duplicates.\n",
            "\n",
            "--- STEP 3: CALCULATING METRICS IN PARALLEL ---\n",
            "[ANALYSIS] Starting calculation for BTCUSDT...\n",
            "[ANALYSIS] Starting calculation for ETHUSDT...\n",
            "[ANALYSIS] Starting calculation for SOLUSDT...\n",
            "[ANALYSIS] Starting calculation for ADAUSDT...\n",
            "[ANALYSIS] Starting calculation for XRPUSDT...\n",
            "[ANALYSIS] Starting calculation for DOGEUSDT...\n",
            "[ANALYSIS] Completed calculation for BTCUSDT.\n",
            "[ANALYSIS] Completed calculation for XRPUSDT.\n",
            "[ANALYSIS] Completed calculation for ADAUSDT.\n",
            "[ANALYSIS] Completed calculation for SOLUSDT.\n",
            "[ANALYSIS] Completed calculation for DOGEUSDT.\n",
            "[ANALYSIS] Completed calculation for ETHUSDT.\n",
            "\n",
            "--- FINAL METRICS DATAFRAME (LAST 10 ROWS) ---\n",
            "           Date    Close  Percent_Change  30_Day_MA Signal  Volatility  \\\n",
            "1490 2025-08-21  2.85195           -3.35       3.09   SELL         4.7   \n",
            "1491 2025-08-22  3.07452            7.80       3.09    BUY         4.7   \n",
            "1492 2025-08-23  3.04852           -0.85       3.08   HOLD         4.7   \n",
            "1493 2025-08-24  3.02579           -0.75       3.08   HOLD         4.7   \n",
            "1494 2025-08-25  2.85855           -5.53       3.07   SELL         4.7   \n",
            "1495 2025-08-26  3.01221            5.38       3.06    BUY         4.7   \n",
            "1496 2025-08-27  2.96888           -1.44       3.06   HOLD         4.7   \n",
            "1497 2025-08-28  2.96652           -0.08       3.05   HOLD         4.7   \n",
            "1498 2025-08-29  2.81926           -4.96       3.04   SELL         4.7   \n",
            "1499 2025-08-30  2.82262            0.12       3.04   HOLD         4.7   \n",
            "\n",
            "       Symbol  \n",
            "1490  XRPUSDT  \n",
            "1491  XRPUSDT  \n",
            "1492  XRPUSDT  \n",
            "1493  XRPUSDT  \n",
            "1494  XRPUSDT  \n",
            "1495  XRPUSDT  \n",
            "1496  XRPUSDT  \n",
            "1497  XRPUSDT  \n",
            "1498  XRPUSDT  \n",
            "1499  XRPUSDT  \n",
            "\n",
            "--- PIPELINE COMPLETE ---\n"
          ]
        }
      ]
    }
  ]
}