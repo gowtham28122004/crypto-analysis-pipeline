{
  "nbformat": 4,
  "nbformat_minor": 0,
  "metadata": {
    "colab": {
      "provenance": []
    },
    "kernelspec": {
      "name": "python3",
      "display_name": "Python 3"
    },
    "language_info": {
      "name": "python"
    }
  },
  "cells": [
    {
      "cell_type": "code",
      "source": [
        "import sqlite3\n",
        "import pandas as pd\n",
        "import numpy as np\n",
        "from datetime import datetime\n",
        "import smtplib\n",
        "from email.mime.multipart import MIMEMultipart\n",
        "from email.mime.text import MIMEText"
      ],
      "metadata": {
        "id": "BrQCcgPIiZIC"
      },
      "execution_count": null,
      "outputs": []
    },
    {
      "cell_type": "markdown",
      "source": [
        "Google Colab Integration"
      ],
      "metadata": {
        "id": "bMdAWXKQ3C-Z"
      }
    },
    {
      "cell_type": "code",
      "source": [
        "from google.colab import drive\n",
        "from google.colab import userdata\n",
        "drive.mount('/content/drive')"
      ],
      "metadata": {
        "colab": {
          "base_uri": "https://localhost:8080/"
        },
        "id": "17GD_OPh7jcr",
        "outputId": "4b517ee9-9603-4c7c-b0b8-3b45bc3b1e37"
      },
      "execution_count": null,
      "outputs": [
        {
          "output_type": "stream",
          "name": "stdout",
          "text": [
            "Drive already mounted at /content/drive; to attempt to forcibly remount, call drive.mount(\"/content/drive\", force_remount=True).\n"
          ]
        }
      ]
    },
    {
      "cell_type": "markdown",
      "source": [
        "Global Configuration"
      ],
      "metadata": {
        "id": "LkPnhwoO32gY"
      }
    },
    {
      "cell_type": "code",
      "source": [
        "DATABASE_FILE_PATH = '/content/drive/MyDrive/crypto_data.db'\n",
        "COINS_IN_PORTFOLIO = ['BTCUSDT', 'ETHUSDT', 'SOLUSDT', 'ADAUSDT', 'XRPUSDT', 'DOGEUSDT']\n",
        "MARKET_BENCHMARK = 'BTCUSDT'\n",
        "BENCHMARK_PORTFOLIO_RULE = 'risk_level'"
      ],
      "metadata": {
        "id": "ZK9l0y_530F2"
      },
      "execution_count": null,
      "outputs": []
    },
    {
      "cell_type": "code",
      "source": [
        "RISK_THRESHOLDS = {\n",
        "    'Volatility': {'limit': 5.0, 'operator': '<='},\n",
        "    'Sharpe Ratio': {'limit': 1.0, 'operator': '>='},\n",
        "    'Max Drawdown': {'limit': -20.0, 'operator': '>='},\n",
        "    'Sortino Ratio': {'limit': 1.0, 'operator': '>='},\n",
        "    'Beta': {'limit': 1.2, 'operator': '<='},\n",
        "    'Max Asset Weight': {'limit': 0.40, 'operator': '<='}\n",
        "}"
      ],
      "metadata": {
        "id": "MujU1oBh34bj"
      },
      "execution_count": null,
      "outputs": []
    },
    {
      "cell_type": "markdown",
      "source": [
        "Email Alert Configuration"
      ],
      "metadata": {
        "id": "3hgdK-9L38WD"
      }
    },
    {
      "cell_type": "code",
      "source": [
        "SENDER_EMAIL = 'gowthamslm2004@gmail.com'\n",
        "RECEIVER_EMAIL = 'gowthamsrinivasan2004@gmail.com'\n",
        "try:\n",
        "    SENDER_PASSWORD = userdata.get('GMAIL_APP_PASSWORD')\n",
        "except userdata.SecretNotFoundError:\n",
        "    print(\"WARNING: Secret 'GMAIL_APP_PASSWORD' not found. Email alerts will fail.\")\n",
        "    SENDER_PASSWORD = None"
      ],
      "metadata": {
        "id": "rbr1AG4e376g"
      },
      "execution_count": null,
      "outputs": []
    },
    {
      "cell_type": "markdown",
      "source": [
        "ANALYSIS & RISK CHECKING ENGINE"
      ],
      "metadata": {
        "id": "Xtxm0a2S4JWe"
      }
    },
    {
      "cell_type": "code",
      "source": [
        "def assign_weights(investment_goal, assets):\n",
        "    weights = {}\n",
        "    if investment_goal == 'risk_level':\n",
        "        capped_weight = 0.40\n",
        "        weights['BTCUSDT'] = capped_weight\n",
        "        excess_weight = 0.50 - capped_weight\n",
        "        original_other_weights = {'ETHUSDT': 0.25, 'SOLUSDT': 0.10, 'ADAUSDT': 0.05, 'XRPUSDT': 0.05, 'DOGEUSDT': 0.05}\n",
        "        total_other_weight = sum(original_other_weights.values())\n",
        "        for asset, weight in original_other_weights.items():\n",
        "            proportion = weight / total_other_weight\n",
        "            weights[asset] = weight + (excess_weight * proportion)\n",
        "    else:\n",
        "        return assign_weights('risk_level', assets)\n",
        "\n",
        "    total_weight = sum(weights.values())\n",
        "    if not np.isclose(total_weight, 1.0):\n",
        "        weights = {asset: w / total_weight for asset, w in weights.items()}\n",
        "    return weights"
      ],
      "metadata": {
        "id": "JtsSh4wn4Np1"
      },
      "execution_count": null,
      "outputs": []
    },
    {
      "cell_type": "code",
      "source": [
        "def calculate_volatility(daily_returns):\n",
        "  return daily_returns.std()"
      ],
      "metadata": {
        "id": "5nMpVNWt4RIq"
      },
      "execution_count": null,
      "outputs": []
    },
    {
      "cell_type": "code",
      "source": [
        "def calculate_sharpe_ratio(daily_returns):\n",
        "    if daily_returns.std() == 0: return 0.0\n",
        "    return (daily_returns.mean() / daily_returns.std()) * np.sqrt(365)"
      ],
      "metadata": {
        "id": "yHLJhhNU4UGm"
      },
      "execution_count": null,
      "outputs": []
    },
    {
      "cell_type": "code",
      "source": [
        "def calculate_max_drawdown(prices):\n",
        "    cumulative_returns = (1 + prices / 100).cumprod()\n",
        "    peak = cumulative_returns.cummax()\n",
        "    drawdown = (cumulative_returns - peak) / peak\n",
        "    return drawdown.min() * 100"
      ],
      "metadata": {
        "id": "Yx53adHK4VHP"
      },
      "execution_count": null,
      "outputs": []
    },
    {
      "cell_type": "code",
      "source": [
        "def calculate_sortino_ratio(daily_returns):\n",
        "    negative_returns = daily_returns[daily_returns < 0]\n",
        "    downside_deviation = negative_returns.std()\n",
        "    if np.isnan(downside_deviation) or downside_deviation == 0: return np.inf\n",
        "    return (daily_returns.mean() / downside_deviation) * np.sqrt(365)"
      ],
      "metadata": {
        "id": "ZNvk-zBn4XMQ"
      },
      "execution_count": null,
      "outputs": []
    },
    {
      "cell_type": "code",
      "source": [
        "def calculate_beta(portfolio_returns, market_returns):\n",
        "    covariance = np.cov(portfolio_returns, market_returns)[0, 1]\n",
        "    market_variance = np.var(market_returns)\n",
        "    if market_variance == 0: return 0.0\n",
        "    return covariance / market_variance"
      ],
      "metadata": {
        "id": "-RWrzfdI4ZWV"
      },
      "execution_count": null,
      "outputs": []
    },
    {
      "cell_type": "code",
      "source": [
        "def check_max_asset_weight(weights):\n",
        "  return max(weights.values())"
      ],
      "metadata": {
        "id": "lej5ws674bXx"
      },
      "execution_count": null,
      "outputs": []
    },
    {
      "cell_type": "code",
      "source": [
        "def run_risk_checker():\n",
        "    print(\"--- RUNNING ANALYSIS AND RISK CHECKS ---\")\n",
        "    conn = sqlite3.connect(DATABASE_FILE_PATH)\n",
        "    cur = conn.cursor()\n",
        "\n",
        "    cur.execute(\"CREATE TABLE IF NOT EXISTS risk_assessment (id INTEGER PRIMARY KEY, portfolio_name TEXT, rule_name TEXT, calculated_value REAL, rule_check TEXT, status TEXT, timestamp TEXT)\")\n",
        "\n",
        "    try:\n",
        "        df = pd.read_sql_query(\"SELECT Date, Symbol, Close FROM crypto_prices ORDER BY Date ASC\", conn, parse_dates=['Date'])\n",
        "    except pd.io.sql.DatabaseError as e:\n",
        "        print(f\"FATAL ERROR: Could not read 'crypto_prices' table. Reason: {e}\")\n",
        "        conn.close()\n",
        "        return []\n",
        "    conn.close()\n",
        "\n",
        "    prices_df = df.pivot(index='Date', columns='Symbol', values='Close')\n",
        "    returns_df = prices_df.pct_change() * 100\n",
        "\n",
        "    portfolio_name = BENCHMARK_PORTFOLIO_RULE\n",
        "    print(f\"Analyzing benchmark portfolio: '{portfolio_name}' with 40% weight constraint...\")\n",
        "    weights = assign_weights(portfolio_name, COINS_IN_PORTFOLIO)\n",
        "\n",
        "    portfolio_returns = (returns_df[list(weights.keys())] * pd.Series(weights)).sum(axis=1).dropna()\n",
        "    market_returns = returns_df[MARKET_BENCHMARK].dropna()\n",
        "    common_index = portfolio_returns.index.intersection(market_returns.index)\n",
        "\n",
        "    metrics = {\n",
        "        'Volatility': calculate_volatility(portfolio_returns),\n",
        "        'Sharpe Ratio': calculate_sharpe_ratio(portfolio_returns / 100),\n",
        "        'Max Drawdown': calculate_max_drawdown(portfolio_returns),\n",
        "        'Sortino Ratio': calculate_sortino_ratio(portfolio_returns / 100),\n",
        "        'Beta': calculate_beta(portfolio_returns[common_index], market_returns[common_index]),\n",
        "        'Max Asset Weight': check_max_asset_weight(weights)\n",
        "    }\n",
        "\n",
        "    results = []\n",
        "    failed_rules = []\n",
        "    for rule_name, value in metrics.items():\n",
        "        threshold = RISK_THRESHOLDS[rule_name]['limit']\n",
        "        operator = RISK_THRESHOLDS[rule_name]['operator']\n",
        "        passed = eval(f\"{value} {operator} {threshold}\")\n",
        "        status = \"PASS\" if passed else \"FAIL\"\n",
        "        result_row = {'portfolio_name': portfolio_name, 'rule_name': rule_name, 'calculated_value': round(value, 4), 'rule_check': f\"{operator} {threshold}\", 'status': status, 'timestamp': datetime.now().strftime('%Y-%m-%d %H:%M:%S')}\n",
        "        results.append(result_row)\n",
        "        if not passed: failed_rules.append(result_row)\n",
        "\n",
        "    print(\"\\n--- Risk Assessment Summary ---\")\n",
        "    for res in results:\n",
        "        print(f\"Portfolio: {res['portfolio_name']}, Rule: {res['rule_name']:<18}, Status: {res['status']:<4}, Value: {res['calculated_value']:<8} (Rule: {res['rule_check']})\")\n",
        "\n",
        "    return results, failed_rules"
      ],
      "metadata": {
        "id": "7L_ifMoD4jmd"
      },
      "execution_count": null,
      "outputs": []
    },
    {
      "cell_type": "code",
      "source": [
        "def store_risk_results_in_db(results):\n",
        "    if not results:\n",
        "        print(\"No results to store in the database.\")\n",
        "        return\n",
        "\n",
        "    print(\"\\n--- Storing risk check results in the database... ---\")\n",
        "    conn = sqlite3.connect(DATABASE_FILE_PATH)\n",
        "    cur = conn.cursor()\n",
        "\n",
        "    # Use the name of the portfolio from the first result\n",
        "    name_to_clear = results[0]['portfolio_name']\n",
        "    cur.execute(\"DELETE FROM risk_assessment WHERE portfolio_name = ?\", (name_to_clear,))\n",
        "\n",
        "    data_to_insert = [tuple(res.values()) for res in results]\n",
        "    cur.executemany(\"INSERT INTO risk_assessment (portfolio_name, rule_name, calculated_value, rule_check, status, timestamp) VALUES (?, ?, ?, ?, ?, ?)\", data_to_insert)\n",
        "\n",
        "    conn.commit()\n",
        "    conn.close()\n",
        "    print(\"Successfully stored risk assessment results.\")"
      ],
      "metadata": {
        "id": "8XTDlUOO4oLw"
      },
      "execution_count": null,
      "outputs": []
    },
    {
      "cell_type": "code",
      "source": [
        "def send_email_alert(failed_rules):\n",
        "    \"\"\"Formats and sends an email alert with the details of failed rules.\"\"\"\n",
        "    if SENDER_PASSWORD is None:\n",
        "        print(\"\\nCannot send email alert: Password not configured in Colab Secrets.\")\n",
        "        return\n",
        "    print(\"\\nA risk rule has failed. Preparing to send email alert...\")\n",
        "    subject = \"ALERT: Portfolio Risk Rule Violation Detected\"\n",
        "    body = \"The following risk rules have failed for the monitored portfolio:\\n\\n\"\n",
        "    for failure in failed_rules:\n",
        "        body += (f\"  - Portfolio: {failure['portfolio_name']}\\n\"\n",
        "                 f\"    Rule: {failure['rule_name']}\\n\"\n",
        "                 f\"    Condition: {failure['rule_check']}\\n\"\n",
        "                 f\"    Actual Value: {failure['calculated_value']}\\n\\n\")\n",
        "    msg = MIMEMultipart()\n",
        "    msg['From'], msg['To'], msg['Subject'] = SENDER_EMAIL, RECEIVER_EMAIL, subject\n",
        "    msg.attach(MIMEText(body, 'plain'))\n",
        "    try:\n",
        "        with smtplib.SMTP('smtp.gmail.com', 587) as server:\n",
        "            server.starttls()\n",
        "            server.login(SENDER_EMAIL, SENDER_PASSWORD)\n",
        "            server.send_message(msg)\n",
        "        print(\"Email alert sent successfully.\")\n",
        "    except Exception as e:\n",
        "        print(f\"  > ERROR: Failed to send email. Reason: {e}\")"
      ],
      "metadata": {
        "id": "wJ20NI_SiWGm"
      },
      "execution_count": null,
      "outputs": []
    },
    {
      "cell_type": "markdown",
      "source": [
        "MAIN EXECUTION BLOCK\n"
      ],
      "metadata": {
        "id": "HO5HxRbe4x9P"
      }
    },
    {
      "cell_type": "code",
      "source": [
        "if __name__ == \"__main__\":\n",
        "\n",
        "    all_results, failed_rules_list = run_risk_checker()\n",
        "\n",
        "    store_risk_results_in_db(all_results)\n",
        "\n",
        "    if failed_rules_list:\n",
        "        send_email_alert(failed_rules_list)\n",
        "    else:\n",
        "        print(\"\\nAll risk rules passed. No alert necessary.\")\n",
        "\n",
        "    print(\"\\n--- RISK CHECKER COMPLETE ---\")"
      ],
      "metadata": {
        "colab": {
          "base_uri": "https://localhost:8080/"
        },
        "id": "bFzdC-H-4zdC",
        "outputId": "022e9457-f557-41d7-a1d5-8addfc1c666f"
      },
      "execution_count": null,
      "outputs": [
        {
          "output_type": "stream",
          "name": "stdout",
          "text": [
            "--- RUNNING ANALYSIS AND RISK CHECKS ---\n",
            "Analyzing benchmark portfolio: 'risk_level' with 40% weight constraint...\n",
            "\n",
            "--- Risk Assessment Summary ---\n",
            "Portfolio: risk_level, Rule: Volatility        , Status: PASS, Value: 3.2857   (Rule: <= 5.0)\n",
            "Portfolio: risk_level, Rule: Sharpe Ratio      , Status: FAIL, Value: 0.7105   (Rule: >= 1.0)\n",
            "Portfolio: risk_level, Rule: Max Drawdown      , Status: FAIL, Value: -79.4214 (Rule: >= -20.0)\n",
            "Portfolio: risk_level, Rule: Sortino Ratio     , Status: FAIL, Value: 0.9983   (Rule: >= 1.0)\n",
            "Portfolio: risk_level, Rule: Beta              , Status: PASS, Value: 1.089    (Rule: <= 1.2)\n",
            "Portfolio: risk_level, Rule: Max Asset Weight  , Status: PASS, Value: 0.4      (Rule: <= 0.4)\n",
            "\n",
            "--- Storing risk check results in the database... ---\n",
            "Successfully stored risk assessment results.\n",
            "\n",
            "A risk rule has failed. Preparing to send email alert...\n",
            "Email alert sent successfully.\n",
            "\n",
            "--- RISK CHECKER COMPLETE ---\n"
          ]
        }
      ]
    }
  ]
}