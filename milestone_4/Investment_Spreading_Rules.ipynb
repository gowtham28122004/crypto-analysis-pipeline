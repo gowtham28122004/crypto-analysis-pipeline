{
  "nbformat": 4,
  "nbformat_minor": 0,
  "metadata": {
    "colab": {
      "provenance": []
    },
    "kernelspec": {
      "name": "python3",
      "display_name": "Python 3"
    },
    "language_info": {
      "name": "python"
    }
  },
  "cells": [
    {
      "cell_type": "code",
      "execution_count": null,
      "metadata": {
        "colab": {
          "base_uri": "https://localhost:8080/"
        },
        "id": "xoo9_pY7jg-d",
        "outputId": "33a2d112-ff5f-44dc-d271-a3064de06d6b"
      },
      "outputs": [
        {
          "output_type": "stream",
          "name": "stdout",
          "text": [
            "Mounted at /content/drive\n"
          ]
        }
      ],
      "source": [
        "from google.colab import drive\n",
        "drive.mount('/content/drive')"
      ]
    },
    {
      "cell_type": "code",
      "source": [
        "import pandas as pd\n",
        "import numpy as np"
      ],
      "metadata": {
        "id": "B5izJzUjjzng"
      },
      "execution_count": null,
      "outputs": []
    },
    {
      "cell_type": "markdown",
      "source": [
        "#### PART 1: DYNAMIC WEIGHT ALLOCATION RULES"
      ],
      "metadata": {
        "id": "BwxZDj76j0-3"
      }
    },
    {
      "cell_type": "code",
      "source": [
        "def assign_weights(rule_name, returns_df):\n",
        "\n",
        "    if rule_name == 'equal':\n",
        "        # Rule 1: Equal-Weight Rule\n",
        "        num_assets = len(returns_df.columns)\n",
        "        return pd.Series(1 / num_assets, index=returns_df.columns)\n",
        "\n",
        "    elif rule_name == 'risk_parity':\n",
        "        # Rule 2: Risk-Parity Rule\n",
        "        # Lower volatility assets get higher weight.\n",
        "        volatilities = returns_df.std()\n",
        "        # Add a small epsilon to avoid division by zero for assets with zero volatility\n",
        "        inverse_volatilities = 1 / (volatilities + 1e-6)\n",
        "        return inverse_volatilities / inverse_volatilities.sum()\n",
        "\n",
        "    elif rule_name == 'sharpe_max':\n",
        "        # Rule 3: Sharpe-Maximization Rule\n",
        "        # Assets with better risk-adjusted returns get more weight.\n",
        "        # Assuming risk-free rate is 0 for simplicity.\n",
        "        mean_returns = returns_df.mean()\n",
        "        volatilities = returns_df.std()\n",
        "        sharpe_ratios = mean_returns / (volatilities + 1e-6)\n",
        "        # Set negative Sharpe ratios to 0 so they get no weight\n",
        "        positive_sharpe = sharpe_ratios.clip(lower=0)\n",
        "        return positive_sharpe / positive_sharpe.sum()\n",
        "\n",
        "    elif rule_name == 'momentum':\n",
        "        # Rule 4: Momentum Rule\n",
        "        # Assets that have been going up recently get more weight.\n",
        "        # We'll measure momentum as the cumulative return over the period.\n",
        "        total_returns = (1 + returns_df).prod() - 1\n",
        "        # Set negative momentum to 0 so losing assets get no weight\n",
        "        positive_momentum = total_returns.clip(lower=0)\n",
        "        return positive_momentum / positive_momentum.sum()\n",
        "\n",
        "    else:\n",
        "        raise ValueError(f\"Unknown rule: {rule_name}\")"
      ],
      "metadata": {
        "id": "rgrDXe37kEAa"
      },
      "execution_count": null,
      "outputs": []
    },
    {
      "cell_type": "markdown",
      "source": [
        "#### PART 2: STRESS TEST SIMULATION"
      ],
      "metadata": {
        "id": "7_Zym42gkGBQ"
      }
    },
    {
      "cell_type": "code",
      "source": [
        "def run_stress_test():\n",
        "\n",
        "    # --- 1. Define the Stress Test Data (from your slide) ---\n",
        "    stress_test_data = {\n",
        "        \"Bull Market\": pd.DataFrame({\n",
        "            \"BTC\": [0.05, 0.04, 0.03, 0.06],\n",
        "            \"ETH\": [0.04, 0.03, 0.02, 0.05],\n",
        "            \"LTC\": [0.03, 0.02, 0.01, 0.04]\n",
        "        }),\n",
        "        \"Bear Market\": pd.DataFrame({\n",
        "            \"BTC\": [-0.05, -0.04, -0.03, -0.06],\n",
        "            \"ETH\": [-0.04, -0.03, -0.02, -0.05],\n",
        "            \"LTC\": [-0.03, -0.02, -0.01, -0.04]\n",
        "        }),\n",
        "        \"Volatile Market\": pd.DataFrame({\n",
        "            \"BTC\": [0.10, -0.10, 0.12, -0.08],\n",
        "            \"ETH\": [0.08, -0.07, 0.09, -0.06],\n",
        "            \"LTC\": [0.07, -0.05, 0.06, -0.04]\n",
        "        })\n",
        "    }\n",
        "\n",
        "    rules_to_test = ['equal', 'risk_parity', 'sharpe_max', 'momentum']\n",
        "\n",
        "    final_results = []\n",
        "\n",
        "    # --- 2. Loop through each scenario and apply each rule ---\n",
        "    for scenario_name, returns_data in stress_test_data.items():\n",
        "        print(\"\\n\" + \"=\"*50)\n",
        "        print(f\"STRESS TEST SCENARIO: {scenario_name}\")\n",
        "        print(\"=\"*50)\n",
        "\n",
        "        for rule in rules_to_test:\n",
        "            # a. Dynamically assign weights based on the data in this scenario\n",
        "            weights = assign_weights(rule, returns_data)\n",
        "\n",
        "            # b. Calculate the portfolio's performance under this rule\n",
        "            portfolio_daily_returns = (returns_data * weights).sum(axis=1)\n",
        "\n",
        "            # c. Calculate final metrics\n",
        "            total_return = (1 + portfolio_daily_returns).prod() - 1\n",
        "            volatility = portfolio_daily_returns.std()\n",
        "\n",
        "            # d. Store the results\n",
        "            final_results.append({\n",
        "                'Scenario': scenario_name,\n",
        "                'Rule': rule,\n",
        "                'Total_Return (%)': round(total_return * 100, 2),\n",
        "                'Volatility (Risk)': round(volatility, 4)\n",
        "            })\n",
        "\n",
        "            print(f\"--- Rule: {rule} ---\")\n",
        "            print(\"Calculated Weights:\")\n",
        "            print(weights.round(2))\n",
        "            print(f\"Resulting Total Return: {total_return:.2%}\\n\")\n",
        "\n",
        "    # --- 3. Present the Final Summary ---\n",
        "    summary_df = pd.DataFrame(final_results)\n",
        "\n",
        "    print(\"\\n\" + \"=\"*80)\n",
        "    print(\"FINAL STRESS TEST SUMMARY\")\n",
        "    print(\"=\"*80)\n",
        "    print(summary_df)\n",
        "\n",
        "    print(\"\\n--- Key Insights ---\")\n",
        "    print(\"1. Bull Market: All strategies are profitable, but 'Momentum' and 'Sharpe-Max' excel by concentrating on the best performers.\")\n",
        "    print(\"2. Bear Market: All strategies lose money, but 'Risk-Parity' is the most defensive, losing the least by favoring the most stable asset.\")\n",
        "    print(\"3. Volatile Market: 'Risk-Parity' often performs best here as it avoids the assets with the wildest downswings.\")"
      ],
      "metadata": {
        "id": "hAAE2JLxkOzt"
      },
      "execution_count": null,
      "outputs": []
    },
    {
      "cell_type": "code",
      "source": [
        "if __name__ == \"__main__\":\n",
        "    run_stress_test()"
      ],
      "metadata": {
        "colab": {
          "base_uri": "https://localhost:8080/"
        },
        "id": "3Z91Y5R_jnvC",
        "outputId": "9c304f01-e5a1-435a-8589-0ff84d31ad6b"
      },
      "execution_count": null,
      "outputs": [
        {
          "output_type": "stream",
          "name": "stdout",
          "text": [
            "\n",
            "==================================================\n",
            "STRESS TEST SCENARIO: Bull Market\n",
            "==================================================\n",
            "--- Rule: equal ---\n",
            "Calculated Weights:\n",
            "BTC    0.33\n",
            "ETH    0.33\n",
            "LTC    0.33\n",
            "dtype: float64\n",
            "Resulting Total Return: 14.73%\n",
            "\n",
            "--- Rule: risk_parity ---\n",
            "Calculated Weights:\n",
            "BTC    0.33\n",
            "ETH    0.33\n",
            "LTC    0.33\n",
            "dtype: float64\n",
            "Resulting Total Return: 14.73%\n",
            "\n",
            "--- Rule: sharpe_max ---\n",
            "Calculated Weights:\n",
            "BTC    0.43\n",
            "ETH    0.33\n",
            "LTC    0.24\n",
            "dtype: float64\n",
            "Resulting Total Return: 15.57%\n",
            "\n",
            "--- Rule: momentum ---\n",
            "Calculated Weights:\n",
            "BTC    0.43\n",
            "ETH    0.33\n",
            "LTC    0.23\n",
            "dtype: float64\n",
            "Resulting Total Return: 15.62%\n",
            "\n",
            "\n",
            "==================================================\n",
            "STRESS TEST SCENARIO: Bear Market\n",
            "==================================================\n",
            "--- Rule: equal ---\n",
            "Calculated Weights:\n",
            "BTC    0.33\n",
            "ETH    0.33\n",
            "LTC    0.33\n",
            "dtype: float64\n",
            "Resulting Total Return: -13.31%\n",
            "\n",
            "--- Rule: risk_parity ---\n",
            "Calculated Weights:\n",
            "BTC    0.33\n",
            "ETH    0.33\n",
            "LTC    0.33\n",
            "dtype: float64\n",
            "Resulting Total Return: -13.31%\n",
            "\n",
            "--- Rule: sharpe_max ---\n",
            "Calculated Weights:\n",
            "BTC   NaN\n",
            "ETH   NaN\n",
            "LTC   NaN\n",
            "dtype: float64\n",
            "Resulting Total Return: 0.00%\n",
            "\n",
            "--- Rule: momentum ---\n",
            "Calculated Weights:\n",
            "BTC   NaN\n",
            "ETH   NaN\n",
            "LTC   NaN\n",
            "dtype: float64\n",
            "Resulting Total Return: 0.00%\n",
            "\n",
            "\n",
            "==================================================\n",
            "STRESS TEST SCENARIO: Volatile Market\n",
            "==================================================\n",
            "--- Rule: equal ---\n",
            "Calculated Weights:\n",
            "BTC    0.33\n",
            "ETH    0.33\n",
            "LTC    0.33\n",
            "dtype: float64\n",
            "Resulting Total Return: 2.86%\n",
            "\n",
            "--- Rule: risk_parity ---\n",
            "Calculated Weights:\n",
            "BTC    0.24\n",
            "ETH    0.32\n",
            "LTC    0.44\n",
            "dtype: float64\n",
            "Resulting Total Return: 2.99%\n",
            "\n",
            "--- Rule: sharpe_max ---\n",
            "Calculated Weights:\n",
            "BTC    0.24\n",
            "ETH    0.32\n",
            "LTC    0.44\n",
            "dtype: float64\n",
            "Resulting Total Return: 2.99%\n",
            "\n",
            "--- Rule: momentum ---\n",
            "Calculated Weights:\n",
            "BTC    0.24\n",
            "ETH    0.35\n",
            "LTC    0.41\n",
            "dtype: float64\n",
            "Resulting Total Return: 2.98%\n",
            "\n",
            "\n",
            "================================================================================\n",
            "FINAL STRESS TEST SUMMARY\n",
            "================================================================================\n",
            "           Scenario         Rule  Total_Return (%)  Volatility (Risk)\n",
            "0       Bull Market        equal             14.73             0.0129\n",
            "1       Bull Market  risk_parity             14.73             0.0129\n",
            "2       Bull Market   sharpe_max             15.57             0.0129\n",
            "3       Bull Market     momentum             15.62             0.0129\n",
            "4       Bear Market        equal            -13.31             0.0129\n",
            "5       Bear Market  risk_parity            -13.31             0.0129\n",
            "6       Bear Market   sharpe_max              0.00             0.0000\n",
            "7       Bear Market     momentum              0.00             0.0000\n",
            "8   Volatile Market        equal              2.86             0.0887\n",
            "9   Volatile Market  risk_parity              2.99             0.0836\n",
            "10  Volatile Market   sharpe_max              2.99             0.0836\n",
            "11  Volatile Market     momentum              2.98             0.0842\n",
            "\n",
            "--- Key Insights ---\n",
            "1. Bull Market: All strategies are profitable, but 'Momentum' and 'Sharpe-Max' excel by concentrating on the best performers.\n",
            "2. Bear Market: All strategies lose money, but 'Risk-Parity' is the most defensive, losing the least by favoring the most stable asset.\n",
            "3. Volatile Market: 'Risk-Parity' often performs best here as it avoids the assets with the wildest downswings.\n"
          ]
        }
      ]
    }
  ]
}